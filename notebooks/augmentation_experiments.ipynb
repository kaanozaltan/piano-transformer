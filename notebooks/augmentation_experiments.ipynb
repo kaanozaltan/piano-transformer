{
 "cells": [
  {
   "cell_type": "code",
   "execution_count": 1,
   "id": "868167d1",
   "metadata": {},
   "outputs": [],
   "source": [
    "from pathlib import Path\n",
    "from symusic import Score\n",
    "from miditok.data_augmentation import augment_score\n",
    "import subprocess\n",
    "import copy"
   ]
  },
  {
   "cell_type": "code",
   "execution_count": 2,
   "id": "4b4e16bb",
   "metadata": {},
   "outputs": [
    {
     "data": {
      "text/plain": [
       "CompletedProcess(args=['C:\\\\Program Files\\\\fluidsynth-2.4.6-win10-x64\\\\bin\\\\fluidsynth.exe', '-ni', '-F', 'score.wav', 'SalC5Light2.sf2', 'score.midi'], returncode=0)"
      ]
     },
     "execution_count": 2,
     "metadata": {},
     "output_type": "execute_result"
    }
   ],
   "source": [
    "maestro_files = list(Path(\"../data/maestro\").resolve().glob(\"**/*.midi\"))\n",
    "\n",
    "score = Score(maestro_files[0])\n",
    "\n",
    "score.dump_midi(f\"score.midi\")\n",
    "command = [\n",
    "\"C:\\\\Program Files\\\\fluidsynth-2.4.6-win10-x64\\\\bin\\\\fluidsynth.exe\",\n",
    "\"-ni\", \n",
    "\"-F\",\n",
    "f\"score.wav\",\n",
    "\"SalC5Light2.sf2\",\n",
    "f\"score.midi\",\n",
    "]\n",
    "subprocess.run(command, check=True)"
   ]
  },
  {
   "cell_type": "code",
   "execution_count": null,
   "id": "6d40cd2c",
   "metadata": {},
   "outputs": [],
   "source": [
    "for i in range(-6, 6):\n",
    "    augmented_score = augment_score(score, pitch_offset=i)\n",
    "    augmented_score.dump_midi(f\"score_pitch_{i}.midi\")\n",
    "    \n",
    "    command = [\n",
    "        \"C:\\\\Program Files\\\\fluidsynth-2.4.6-win10-x64\\\\bin\\\\fluidsynth.exe\",\n",
    "        \"-ni\", \n",
    "        \"-F\",\n",
    "        f\"score_pitch_{i}.wav\",\n",
    "        \"SalC5Light2.sf2\",\n",
    "        f\"score_pitch_{i}.midi\",\n",
    "    ]\n",
    "\n",
    "    subprocess.run(command, check=True)\n"
   ]
  },
  {
   "cell_type": "code",
   "execution_count": 8,
   "id": "e90aa141",
   "metadata": {},
   "outputs": [],
   "source": [
    "for i in [-20, 20]:\n",
    "    augmented_score = augment_score(score, velocity_offset=i)\n",
    "    augmented_score.dump_midi(f\"score_velocity_{i}.midi\")\n",
    "    \n",
    "    command = [\n",
    "        \"C:\\\\Program Files\\\\fluidsynth-2.4.6-win10-x64\\\\bin\\\\fluidsynth.exe\",\n",
    "        \"-ni\", \n",
    "        \"-F\",\n",
    "        f\"score_velocity_{i}.wav\",\n",
    "        \"SalC5Light2.sf2\",\n",
    "        f\"score_velocity_{i}.midi\",\n",
    "    ]\n",
    "\n",
    "    subprocess.run(command, check=True)\n"
   ]
  },
  {
   "cell_type": "code",
   "execution_count": 9,
   "id": "03afdd19",
   "metadata": {},
   "outputs": [],
   "source": [
    "for i in [-0.5, 0.5]:\n",
    "    augmented_score = augment_score(score, duration_offset=i)\n",
    "    augmented_score.dump_midi(f\"score_duration_{i}.midi\")\n",
    "    \n",
    "    command = [\n",
    "        \"C:\\\\Program Files\\\\fluidsynth-2.4.6-win10-x64\\\\bin\\\\fluidsynth.exe\",\n",
    "        \"-ni\", \n",
    "        \"-F\",\n",
    "        f\"score_duration_{i}.wav\",\n",
    "        \"SalC5Light2.sf2\",\n",
    "        f\"score_duration_{i}.midi\",\n",
    "    ]\n",
    "\n",
    "    subprocess.run(command, check=True)\n"
   ]
  },
  {
   "cell_type": "code",
   "execution_count": 3,
   "id": "6418fdff",
   "metadata": {},
   "outputs": [],
   "source": [
    "def scale_tempo(score: Score, tempo_factor: float) -> Score:\n",
    "    \"\"\"Returns a tempo-scaled copy of the score.\"\"\"\n",
    "    score_copy = copy.deepcopy(score)\n",
    "    for track in score_copy.tracks:\n",
    "        for note in track.notes:\n",
    "            note.time = int(note.time * tempo_factor)\n",
    "            note.duration = int(note.duration * tempo_factor)\n",
    "        for control in track.controls:\n",
    "            control.time = int(control.time * tempo_factor)\n",
    "    return score_copy"
   ]
  },
  {
   "cell_type": "code",
   "execution_count": 4,
   "id": "aa5311e6",
   "metadata": {},
   "outputs": [],
   "source": [
    "for i in [0.8, 0.85, 0.9, 0.95, 1, 1.05, 1.1, 1.15, 1.2]:\n",
    "    scaled_score = scale_tempo(score, i)\n",
    "    scaled_score.dump_midi(f\"score_tempo_{i}.midi\")\n",
    "    \n",
    "    command = [\n",
    "        \"C:\\\\Program Files\\\\fluidsynth-2.4.6-win10-x64\\\\bin\\\\fluidsynth.exe\",\n",
    "        \"-ni\", \n",
    "        \"-F\",\n",
    "        f\"score_tempo_{i}.wav\",\n",
    "        \"SalC5Light2.sf2\",\n",
    "        f\"score_tempo_{i}.midi\",\n",
    "    ]\n",
    "\n",
    "    subprocess.run(command, check=True)\n"
   ]
  }
 ],
 "metadata": {
  "kernelspec": {
   "display_name": "dlab",
   "language": "python",
   "name": "python3"
  },
  "language_info": {
   "codemirror_mode": {
    "name": "ipython",
    "version": 3
   },
   "file_extension": ".py",
   "mimetype": "text/x-python",
   "name": "python",
   "nbconvert_exporter": "python",
   "pygments_lexer": "ipython3",
   "version": "3.11.7"
  }
 },
 "nbformat": 4,
 "nbformat_minor": 5
}

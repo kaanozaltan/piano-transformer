{
 "cells": [
  {
   "cell_type": "code",
   "execution_count": 48,
   "id": "bfc5b011",
   "metadata": {},
   "outputs": [],
   "source": [
    "from pathlib import Path\n",
    "\n",
    "maestro_files = list(Path(\"../data/maestro\").resolve().glob(\"**/*.midi\"))"
   ]
  },
  {
   "cell_type": "code",
   "execution_count": 50,
   "id": "48f007f0",
   "metadata": {},
   "outputs": [],
   "source": [
    "maestro_files = [Path(\"../data/maestro/2008/MIDI-Unprocessed_07_R2_2008_01-05_ORIG_MID--AUDIO_07_R2_2008_wav--1.midi\")]"
   ]
  },
  {
   "cell_type": "code",
   "execution_count": 49,
   "id": "a9d03335",
   "metadata": {},
   "outputs": [],
   "source": [
    "from miditok import REMI, TokenizerConfig, MIDILike\n",
    "\n",
    "tokenizer_config = TokenizerConfig(\n",
    "    pitch_range=(21, 109),\n",
    "    beat_res={(0, 1): 12, (1, 2): 4, (2, 4): 2, (4, 8): 1},\n",
    "    special_tokens=[\"PAD\", \"BOS\", \"EOS\"],\n",
    "    use_chords=True,\n",
    "    use_rests=True,\n",
    "    use_tempos=True,\n",
    "    use_time_signatures=True,\n",
    "    num_velocities=16,\n",
    "    num_tempos=32,\n",
    "    tempo_range=(50, 200),\n",
    "    use_sustain_pedals=True,\n",
    ")\n",
    "# tokenizer = REMI(tokenizer_config)\n",
    "\n",
    "# tokenizer_config = TokenizerConfig(\n",
    "#     pitch_range=(21, 109),\n",
    "#     beat_res={(0, 1): 12, (1, 2): 4, (2, 4): 2, (4, 8): 1},\n",
    "#     special_tokens=[\"PAD\", \"BOS\", \"EOS\"],\n",
    "#     use_chords=True,\n",
    "#     use_rests=True,\n",
    "#     use_tempos=True,\n",
    "#     use_time_signatures=True,\n",
    "#     num_velocities=16,\n",
    "#     num_tempos=32,\n",
    "#     tempo_range=(50, 200),\n",
    "#     use_sustain_pedals=True,\n",
    "# )\n",
    "tokenizer = MIDILike(\n",
    "    tokenizer_config,\n",
    ")\n",
    "\n",
    "tokenizer.train(vocab_size=30000, files_paths=maestro_files[:12])\n",
    "tokenizer.save(\"models/remi_tokenizer.json\")"
   ]
  },
  {
   "cell_type": "code",
   "execution_count": 53,
   "id": "1307a899",
   "metadata": {},
   "outputs": [],
   "source": [
    "tokenizer = MIDILike(params=Path(\"models/remi_tokenizer.json\"))"
   ]
  },
  {
   "cell_type": "code",
   "execution_count": 54,
   "id": "b6f1b4ca",
   "metadata": {},
   "outputs": [],
   "source": [
    "tokens = tokenizer(maestro_files[0])"
   ]
  },
  {
   "cell_type": "code",
   "execution_count": 55,
   "id": "a7eb2240",
   "metadata": {},
   "outputs": [],
   "source": [
    "generated_midi = tokenizer(tokens)\n",
    "generated_midi.dump_midi(\"schubert_midilike.mid\")"
   ]
  },
  {
   "cell_type": "code",
   "execution_count": 14,
   "id": "1a1abd64",
   "metadata": {},
   "outputs": [
    {
     "data": {
      "text/plain": [
       "WindowsPath('C:/Users/Jonathan/Documents/piano-transformer/data/maestro/2004/MIDI-Unprocessed_SMF_02_R1_2004_01-05_ORIG_MID--AUDIO_02_R1_2004_05_Track05_wav.midi')"
      ]
     },
     "execution_count": 14,
     "metadata": {},
     "output_type": "execute_result"
    }
   ],
   "source": [
    "maestro_files[0]"
   ]
  }
 ],
 "metadata": {
  "kernelspec": {
   "display_name": "dlab",
   "language": "python",
   "name": "python3"
  },
  "language_info": {
   "codemirror_mode": {
    "name": "ipython",
    "version": 3
   },
   "file_extension": ".py",
   "mimetype": "text/x-python",
   "name": "python",
   "nbconvert_exporter": "python",
   "pygments_lexer": "ipython3",
   "version": "3.11.7"
  }
 },
 "nbformat": 4,
 "nbformat_minor": 5
}

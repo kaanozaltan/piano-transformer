{
 "cells": [
  {
   "cell_type": "code",
   "execution_count": 15,
   "id": "bfc5b011",
   "metadata": {},
   "outputs": [],
   "source": [
    "from pathlib import Path\n",
    "\n",
    "maestro_files = list(Path(\"../data/maestro\").resolve().glob(\"**/*.midi\"))"
   ]
  },
  {
   "cell_type": "code",
   "execution_count": null,
   "id": "a9d03335",
   "metadata": {},
   "outputs": [],
   "source": [
    "from miditok import REMI, TokenizerConfig, MIDILike\n",
    "\n",
    "tokenizer_config = TokenizerConfig(\n",
    "    pitch_range=(21, 109),\n",
    "    beat_res={(0, 1): 12, (1, 4): 8, (4, 12): 4},\n",
    "    special_tokens=[\"PAD\", \"BOS\", \"EOS\"],\n",
    "    use_chords=True,\n",
    "    use_rests=True,\n",
    "    use_tempos=True,\n",
    "    use_time_signatures=True,\n",
    "    use_sustain_pedals=True,\n",
    "    num_velocities=32,\n",
    "    num_tempos=32,\n",
    "    tempo_range=(40, 250),\n",
    ")\n",
    "tokenizer = REMI(tokenizer_config)\n",
    "\n",
    "# tokenizer_config = TokenizerConfig(\n",
    "#     pitch_range=(21, 109),\n",
    "#     beat_res={(0, 1): 12, (1, 2): 4, (2, 4): 2, (4, 8): 1},\n",
    "#     special_tokens=[\"PAD\", \"BOS\", \"EOS\"],\n",
    "#     use_chords=True,\n",
    "#     use_rests=True,\n",
    "#     use_tempos=True,\n",
    "#     use_time_signatures=True,\n",
    "#     num_velocities=16,\n",
    "#     num_tempos=32,\n",
    "#     tempo_range=(50, 200),\n",
    "#     use_sustain_pedals=True,\n",
    "# )\n",
    "# tokenizer = MIDILike(\n",
    "#     tokenizer_config,\n",
    "# )\n",
    "\n",
    "tokenizer.train(vocab_size=30000, files_paths=maestro_files)\n",
    "tokenizer.save(\"models/remi_tokenizer.json\")"
   ]
  },
  {
   "cell_type": "code",
   "execution_count": null,
   "id": "1307a899",
   "metadata": {},
   "outputs": [],
   "source": [
    "tokenizer = REMI(params=Path(\"models/remi_tokenizer.json\"))"
   ]
  },
  {
   "cell_type": "code",
   "execution_count": 18,
   "id": "5b81fdd5",
   "metadata": {},
   "outputs": [],
   "source": [
    "midi_file = Path(\"summertime.MID\")"
   ]
  },
  {
   "cell_type": "code",
   "execution_count": 19,
   "id": "b6f1b4ca",
   "metadata": {},
   "outputs": [],
   "source": [
    "tokens = tokenizer(midi_file)"
   ]
  },
  {
   "cell_type": "code",
   "execution_count": 20,
   "id": "a7eb2240",
   "metadata": {},
   "outputs": [],
   "source": [
    "generated_midi = tokenizer(tokens)\n",
    "generated_midi.dump_midi(\"summertime_midilike.mid\")"
   ]
  }
 ],
 "metadata": {
  "kernelspec": {
   "display_name": "dlab",
   "language": "python",
   "name": "python3"
  },
  "language_info": {
   "codemirror_mode": {
    "name": "ipython",
    "version": 3
   },
   "file_extension": ".py",
   "mimetype": "text/x-python",
   "name": "python",
   "nbconvert_exporter": "python",
   "pygments_lexer": "ipython3",
   "version": "3.11.7"
  }
 },
 "nbformat": 4,
 "nbformat_minor": 5
}

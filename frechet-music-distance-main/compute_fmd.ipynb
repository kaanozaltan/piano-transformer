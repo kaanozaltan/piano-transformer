{
 "cells": [
  {
   "cell_type": "code",
   "execution_count": 2,
   "id": "e086629e",
   "metadata": {},
   "outputs": [
    {
     "name": "stdout",
     "output_type": "stream",
     "text": [
      "Loading files from tests/data/midi/\n"
     ]
    },
    {
     "name": "stderr",
     "output_type": "stream",
     "text": [
      "100%|██████████| 5/5 [00:00<00:00,  5.88it/s]\n",
      "Extracting features: 100%|██████████| 5/5 [00:17<00:00,  3.53s/it]\n"
     ]
    }
   ],
   "source": [
    "from frechet_music_distance import FrechetMusicDistance\n",
    "\n",
    "metric = FrechetMusicDistance(\n",
    "    feature_extractor='clamp2',\n",
    "    gaussian_estimator='mle', \n",
    "    verbose=True)\n",
    "\n",
    "\n",
    "fme_score_individual = metric.score_individual(\n",
    "    reference_path=\"tests/data/midi/\",\n",
    "    test_song_path=\"tests/data/midi/example_2.mid\",\n",
    ")\n",
    "\n",
    "fme_score = metric.score(\n",
    "    reference_path=\"tests/data/midi/\",\n",
    "    test_path=\"tests/data/midi/\"\n",
    ")"
   ]
  },
  {
   "cell_type": "code",
   "execution_count": null,
   "id": "2c8be946",
   "metadata": {},
   "outputs": [],
   "source": []
  },
  {
   "cell_type": "code",
   "execution_count": 3,
   "id": "28d7f26e",
   "metadata": {},
   "outputs": [
    {
     "name": "stdout",
     "output_type": "stream",
     "text": [
      "Dataset vs Individual MIDI Score is: 193.3811044985755\n",
      "Dataset vs Individual MIDI Score is: -0.00030419283075389103\n"
     ]
    }
   ],
   "source": [
    "print(f\"Dataset vs Individual MIDI Score is: {fme_score_individual}\")\n",
    "print(f\"Dataset vs Individual MIDI Score is: {fme_score}\")"
   ]
  }
 ],
 "metadata": {
  "kernelspec": {
   "display_name": ".venv",
   "language": "python",
   "name": "python3"
  },
  "language_info": {
   "codemirror_mode": {
    "name": "ipython",
    "version": 3
   },
   "file_extension": ".py",
   "mimetype": "text/x-python",
   "name": "python",
   "nbconvert_exporter": "python",
   "pygments_lexer": "ipython3",
   "version": "3.13.3"
  }
 },
 "nbformat": 4,
 "nbformat_minor": 5
}
